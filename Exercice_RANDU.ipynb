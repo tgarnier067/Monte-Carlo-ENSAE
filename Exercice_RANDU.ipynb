{
 "cells": [
  {
   "cell_type": "markdown",
   "id": "84cd3c27-f8bc-4622-94bb-3093ef8d6d9e",
   "metadata": {},
   "source": [
    "# Exercice RANDU"
   ]
  }
 ],
 "metadata": {
  "kernelspec": {
   "display_name": "Python 3 (ipykernel)",
   "language": "python",
   "name": "python3"
  },
  "language_info": {
   "codemirror_mode": {
    "name": "ipython",
    "version": 3
   },
   "file_extension": ".py",
   "mimetype": "text/x-python",
   "name": "python",
   "nbconvert_exporter": "python",
   "pygments_lexer": "ipython3",
   "version": "3.11.6"
  }
 },
 "nbformat": 4,
 "nbformat_minor": 5
}
